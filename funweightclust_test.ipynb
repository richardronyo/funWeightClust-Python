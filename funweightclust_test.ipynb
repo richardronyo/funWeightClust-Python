{
 "cells": [
  {
   "cell_type": "code",
   "execution_count": null,
   "metadata": {},
   "outputs": [],
   "source": [
    "import funweightclust as funweight\n",
    "import numpy as np\n",
    "import skfda\n",
    "from fitAlzheimer import fitAlzheimerFD, test_predict\n",
    "from scipy import linalg as scil\n",
    "\n"
   ]
  },
  {
   "cell_type": "markdown",
   "metadata": {},
   "source": [
    "In this notebook I will be debugging the difference between the R model and Python models."
   ]
  },
  {
   "cell_type": "code",
   "execution_count": null,
   "metadata": {},
   "outputs": [],
   "source": [
    "data = fitAlzheimerFD()\n",
    "fdobj = data['fdx']\n",
    "fdobjy = data['fdy']\n",
    "clm = data['groupd']\n",
    "\n",
    "print(fdobj.coefficients)\n"
   ]
  },
  {
   "cell_type": "markdown",
   "metadata": {},
   "source": [
    "Below are the parameters needed to run the main function with the same values as in R"
   ]
  },
  {
   "cell_type": "code",
   "execution_count": null,
   "metadata": {},
   "outputs": [],
   "source": [
    "model = \"AkjBkQkDk\"\n",
    "modely = \"EII\"\n",
    "model=model.upper()\n",
    "\n",
    "x = fdobj.coefficients\n",
    "y = fdobjy.coefficients\n",
    "N = x.shape[0]\n",
    "p = x.shape[1]\n",
    "q = y.shape[1]\n",
    "K = 2\n",
    "W = skfda.misc.inner_product_matrix(fdobj.basis, fdobj.basis)\n",
    "W[W<1.e-15] = 0\n",
    "W_m = scil.cholesky(W)\n",
    "dety = scil.det(W)\n",
    "Wlist = {'W': W, 'W_m': W_m, 'dety':dety}\n",
    "dfstart = 50\n",
    "dfupdate = 'approx'\n",
    "dfconstr = 'no'\n",
    "itermax=200\n",
    "threshold=0.001\n",
    "method=\"cattell\"\n",
    "eps = 1.e-6\n",
    "init=\"kmeans\"\n",
    "init_vector = None\n",
    "mini_nb = [5, 10]\n",
    "min_individuals = 2\n",
    "noise_ctrl = 1.e-8\n",
    "com_dim = None\n",
    "d_max = 100\n",
    "d_set = [2, 2, 2, 2]\n",
    "known = None\n",
    "kmeans_control = {\"n_init\": 1, \"max_iter\":10, \"algorithm\":'lloyd'}\n",
    "\n",
    "\n",
    "ones_row = np.ones((1, N))\n",
    "DATA = fdobj.coefficients.T\n",
    "intermediate_bigDATA = W@(DATA)\n",
    "bigDATA = np.vstack((intermediate_bigDATA, ones_row))"
   ]
  },
  {
   "cell_type": "code",
   "execution_count": null,
   "metadata": {},
   "outputs": [],
   "source": [
    "import funweightclust as funweight\n",
    "models =[\"AKJBKQKDK\",\"AKJBQKDK\", \"AKBKQKDK\", \"ABKQKDK\", \"AKBQKDK\", \"ABQKDK\"]\n",
    "modelsys = [\"EII\", \"VII\", \"EEI\", \"VEI\"]\n",
    "new_res = funweight.funweightclust(fdobj, fdobjy, K=2, model=models, modely=modelsys, init=\"kmeans\", nb_rep=1, threshold=0.001)"
   ]
  },
  {
   "cell_type": "code",
   "execution_count": null,
   "metadata": {},
   "outputs": [],
   "source": [
    "groups = 10\n",
    "ari_scores, confusion_matrices = test_predict(groups, 0.001)\n",
    "\n",
    "for i in range(groups):\n",
    "    print(i+1, \"ARI Score:\\t\", ari_scores[i], \"\\nConfusion Matrix:\\n\", confusion_matrices[i])"
   ]
  },
  {
   "cell_type": "code",
   "execution_count": null,
   "metadata": {},
   "outputs": [],
   "source": [
    "\n",
    "\n",
    "print(\"d:\\t\", new_res.d)\n",
    "print(\"a:\\t\", new_res.a.shape, \"\\n\", new_res.a)\n",
    "print(\"b:\\t\", new_res.b.shape, \"\\n\", new_res.b)\n",
    "print(\"mu:\\t\", new_res.mu.shape, \"\\n\", new_res.mu)\n",
    "print(\"prop:\\t\", new_res.prop.shape, \"\\n\", new_res.prop)\n",
    "print(\"ev:\\t\", new_res.ev.shape, \"\\n\", new_res.ev)\n",
    "\n"
   ]
  },
  {
   "cell_type": "code",
   "execution_count": null,
   "metadata": {},
   "outputs": [],
   "source": [
    "print(\"Q:\\n\", new_res.Q)\n",
    "print(\"Q1:\\n\", new_res.Q1)"
   ]
  },
  {
   "cell_type": "code",
   "execution_count": null,
   "metadata": {},
   "outputs": [],
   "source": [
    "print(\"gam:\\t\", new_res.gam.shape, \"\\n\", new_res.gam)\n",
    "print(\"cov:\\t\", new_res.covy.shape, \"\\n\", new_res.covy)\n",
    "print(\"icov:\\t\", new_res.icovy.shape, \"\\n\", new_res.icovy)"
   ]
  },
  {
   "cell_type": "code",
   "execution_count": null,
   "metadata": {},
   "outputs": [],
   "source": [
    "print(\"Log Likelihood:\\t\", new_res.loglik)\n",
    "print(\"All Log Likelihood:\\t\", new_res.loglik_all)\n",
    "print(\"Complexity:\\t\", new_res.complexity)\n",
    "print(\"Converged:\\t\", new_res.converged)\n",
    "print(\"BIC:\\t\", new_res.bic)\n",
    "print(\"ICL:\\t\", new_res.icl)"
   ]
  },
  {
   "cell_type": "code",
   "execution_count": null,
   "metadata": {},
   "outputs": [],
   "source": [
    "import sklearn.metrics as met\n",
    "\n",
    "print(\"Confusion matrix after debugging:\\n\",met.confusion_matrix(new_res.cl, clm))\n",
    "print(\"ARI Score after debugging:\\n\", met.adjusted_rand_score(new_res.cl, clm))\n",
    "\n"
   ]
  },
  {
   "cell_type": "markdown",
   "metadata": {},
   "source": [
    "The discrepancies begin in _T_mypcat_fd1_Uni. The value for the eigenvectors is in a different order than in R, that could be a reason why the outputs are different. As a result the bj matrices in is in a different order as well.\n",
    "\n",
    "    bj = np.linalg.solve(W_m, np.eye(W_m.shape[0]))@np.ascontiguousarray(np.real(vecteurs_propres))\n",
    "\n",
    "Identical values but just in a different order"
   ]
  },
  {
   "cell_type": "code",
   "execution_count": null,
   "metadata": {},
   "outputs": [],
   "source": [
    "from fitAdelaideFD import fitAdelaide\n",
    "\n",
    "\n",
    "data = fitAdelaide()\n",
    "new_res = skewfun.tfunHDDC(data['fdx'], data['fdy'], K=2, model=models, modely=modelsys, init=\"kmeans\", nb_rep=1, threshold=0.001)\n"
   ]
  },
  {
   "cell_type": "code",
   "execution_count": null,
   "metadata": {},
   "outputs": [],
   "source": [
    "import sklearn.metrics as met\n",
    "clm = data['labels']\n",
    "print(\"Confusion matrix after debugging:\\n\",met.confusion_matrix(new_res.cl, clm))\n",
    "print(\"ARI Score after debugging:\\n\", met.adjusted_rand_score(new_res.cl, clm))"
   ]
  }
 ],
 "metadata": {
  "kernelspec": {
   "display_name": "venv",
   "language": "python",
   "name": "python3"
  },
  "language_info": {
   "codemirror_mode": {
    "name": "ipython",
    "version": 3
   },
   "file_extension": ".py",
   "mimetype": "text/x-python",
   "name": "python",
   "nbconvert_exporter": "python",
   "pygments_lexer": "ipython3",
   "version": "3.12.3"
  }
 },
 "nbformat": 4,
 "nbformat_minor": 2
}
